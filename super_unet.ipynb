import tensorflow as tf
from tensorflow.keras import layers, models
from tensorflow.keras.optimizers import Adam
from tensorflow.keras.losses import binary_crossentropy
from tensorflow.keras.metrics import MeanIoU
from tensorflow.keras.preprocessing.image import ImageDataGenerator
import numpy as np
import os
import cv2

class ResidualBlock(tf.keras.Model):
    def __init__(self, filters):
        super(ResidualBlock, self).__init__()
        self.conv1 = layers.Conv2D(filters, (3, 3), padding='same')
        self.bn1 = layers.BatchNormalization()
        self.relu = layers.ReLU()
        self.conv2 = layers.Conv2D(filters, (3, 3), padding='same')
        self.bn2 = layers.BatchNormalization()

    def call(self, inputs):
        x = self.conv1(inputs)
        x = self.bn1(x)
        x = self.relu(x)
        x = self.conv2(x)
        x = self.bn2(x)
        x += inputs
        x = self.relu(x)
        return x

class FusionUpsampling(tf.keras.Model):
    def __init__(self, filters):
        super(FusionUpsampling, self).__init__()
        self.global_avg_pool = layers.GlobalAveragePooling2D()
        self.dense1 = layers.Dense(filters // 2, activation='relu')
        self.dense2 = layers.Dense(filters, activation='sigmoid')
        self.reshape = layers.Reshape((1, 1, filters))

    def call(self, inputs):
        x = self.global_avg_pool(inputs)
        x = self.dense1(x)
        x = self.dense2(x)
        x = self.reshape(x)
        x = layers.multiply([inputs, x])
        return x

class DynamicReceptiveField(tf.keras.Model):
    def __init__(self, filters):
        super(DynamicReceptiveField, self).__init__()
        self.conv1x1 = layers.Conv2D(filters, (1, 1), padding='same')
        self.conv3x3 = layers.Conv2D(filters, (3, 3), padding='same')
        self.conv5x5 = layers.Conv2D(filters, (5, 5), padding='same')
        self.dilated_conv3x3 = layers.Conv2D(filters, (3, 3), padding='same', dilation_rate=3)
        self.dilated_conv5x5 = layers.Conv2D(filters, (5, 5), padding='same', dilation_rate=5)

    def call(self, inputs):
        path1 = self.conv1x1(inputs)
        path2 = self.conv3x3(inputs)
        path3 = self.conv5x5(inputs)
        path4 = self.dilated_conv3x3(inputs)
        path5 = self.dilated_conv5x5(inputs)
        x = layers.concatenate([path1, path2, path3, path4, path5])
        return x

class SEBlock(tf.keras.Model):
    def __init__(self, filters, reduction=16):
        super(SEBlock, self).__init__()
        self.global_avg_pool = layers.GlobalAveragePooling2D()
        self.dense1 = layers.Dense(filters // reduction, activation='relu')
        self.dense2 = layers.Dense(filters, activation='sigmoid')
        self.reshape = layers.Reshape((1, 1, filters))

    def call(self, inputs):
        x = self.global_avg_pool(inputs)
        x = self.dense1(x)
        x = self.dense2(x)
        x = self.reshape(x)
        x = layers.multiply([inputs, x])
        return x

class SuperUNet(tf.keras.Model):
    def __init__(self):
        super(SuperUNet, self).__init__()
        self.encoder = [
            ResidualBlock(8),
            ResidualBlock(16),
            ResidualBlock(32),
            ResidualBlock(64),
            ResidualBlock(128)
        ]
        self.decoder = [
            ResidualBlock(128),
            ResidualBlock(64),
            ResidualBlock(32),
            ResidualBlock(16),
            ResidualBlock(8)
        ]
        self.fusion_upsampling = FusionUpsampling(128)
        self.dynamic_receptive_field = DynamicReceptiveField(128)
        self.se_block = SEBlock(128)
        self.final_conv = layers.Conv2D(1, (1, 1), activation='sigmoid')

    def call(self, inputs):
        skips = []
        x = inputs
        for block in self.encoder:
            x = block(x)
            skips.append(x)
            x = layers.MaxPooling2D((2, 2))(x)

        skips = skips[::-1]
        for i, block in enumerate(self.decoder):
            x = layers.UpSampling2D((2, 2))(x)
            x = layers.concatenate([x, skips[i]])
            x = self.fusion_upsampling(x)
            x = block(x)

        x = self.dynamic_receptive_field(x)
        x = self.se_block(x)
        x = self.final_conv(x)
        return x

def load_drive_dataset():
    # Load DRIVE dataset
    drive_images = []
    drive_labels = []
    for i in range(1, 21):
        img = cv2.imread(f'DRIVE/training/images/{i:02d}_training.tif', cv2.IMREAD_GRAYSCALE)
        label = cv2.imread(f'DRIVE/training/1st_manual/{i:02d}_manual1.gif', cv2.IMREAD_GRAYSCALE)
        drive_images.append(img)
        drive_labels.append(label)
    return np.array(drive_images), np.array(drive_labels)

def load_kvasir_seg_dataset():
    # Load Kvasir-SEG dataset
    kvasir_images = []
    kvasir_labels = []
    for filename in os.listdir('Kvasir-SEG/images'):
        img = cv2.imread(f'Kvasir-SEG/images/{filename}', cv2.IMREAD_GRAYSCALE)
        label = cv2.imread(f'Kvasir-SEG/masks/{filename}', cv2.IMREAD_GRAYSCALE)
        kvasir_images.append(img)
        kvasir_labels.append(label)
    return np.array(kvasir_images), np.array(kvasir_labels)

def load_chase_db1_dataset():
    # Load CHASE DB1 dataset
    chase_images = []
    chase_labels = []
    for i in range(1, 29):
        img = cv2.imread(f'CHASE_DB1/images/{i:02d}.jpg', cv2.IMREAD_GRAYSCALE)
        label = cv2.imread(f'CHASE_DB1/1st_label/{i:02d}_1stHO.png', cv2.IMREAD_GRAYSCALE)
        chase_images.append(img)
        chase_labels.append(label)
    return np.array(chase_images), np.array(chase_labels)

def load_isic_dataset():
    # Load ISIC dataset
    isic_images = []
    isic_labels = []
    for filename in os.listdir('ISIC/images'):
        img = cv2.imread(f'ISIC/images/{filename}', cv2.IMREAD_GRAYSCALE)
        label = cv2.imread(f'ISIC/masks/{filename}', cv2.IMREAD_GRAYSCALE)
        isic_images.append(img)
        isic_labels.append(label)
    return np.array(isic_images), np.array(isic_labels)

def preprocess_data(images, labels, img_size):
    images_resized = []
    labels_resized = []
    for img, label in zip(images, labels):
        img_resized = cv2.resize(img, (img_size, img_size))
        label_resized = cv2.resize(label, (img_size, img_size))
        images_resized.append(img_resized)
        labels_resized.append(label_resized)
    return np.array(images_resized), np.array(labels_resized)

def augment_data(images, labels):
    datagen = ImageDataGenerator(
        rotation_range=20,
        width_shift_range=0.2,
        height_shift_range=0.2,
        shear_range=0.2,
        zoom_range=0.2,
        horizontal_flip=True,
        fill_mode='nearest'
    )
    augmented_images = []
    augmented_labels = []
    for img, label in zip(images, labels):
        img = img.reshape((1,) + img.shape + (1,))
        label = label.reshape((1,) + label.shape + (1,))
        for _ in range(5):
            augmented_img = datagen.flow(img, batch_size=1)[0].reshape(img.shape[1:-1])
            augmented_label = datagen.flow(label, batch_size=1)[0].reshape(label.shape[1:-1])
            augmented_images.append(augmented_img)
            augmented_labels.append(augmented_label)
    return np.array(augmented_images), np.array(augmented_labels)

def mixup_data(x, y, alpha=0.2):
    """Applies MixUp augmentation to the data."""
    batch_size = x.shape[0]
    indices = np.random.permutation(batch_size)
    x_shuffled = x[indices]
    y_shuffled = y[indices]
    lam = np.random.beta(alpha, alpha, batch_size)
    x_mixup = lam[:, None, None, None] * x + (1 - lam[:, None, None, None]) * x_shuffled
    y_mixup = lam[:, None, None, None] * y + (1 - lam[:, None, None, None]) * y_shuffled
    return x_mixup, y_mixup

# Load and preprocess datasets
drive_images, drive_labels = load_drive_dataset()
kvasir_images, kvasir_labels = load_kvasir_seg_dataset()
chase_images, chase_labels = load_chase_db1_dataset()
isic_images, isic_labels = load_isic_dataset()

drive_images, drive_labels = preprocess_data(drive_images, drive_labels, 48)
kvasir_images, kvasir_labels = preprocess_data(kvasir_images, kvasir_labels, 512)
chase_images, chase_labels = preprocess_data(chase_images, chase_labels, 48)
isic_images, isic_labels = preprocess_data(isic_images, isic_labels, 512)

drive_images, drive_labels = augment_data(drive_images, drive_labels)
kvasir_images, kvasir_labels = augment_data(kvasir_images, kvasir_labels)
chase_images, chase_labels = augment_data(chase_images, chase_labels)
isic_images, isic_labels = augment_data(isic_images, isic_labels)

# Apply MixUp augmentation
drive_images, drive_labels = mixup_data(drive_images, drive_labels)
kvasir_images, kvasir_labels = mixup_data(kvasir_images, kvasir_labels)
chase_images, chase_labels = mixup_data(chase_images, chase_labels)
isic_images, isic_labels = mixup_data(isic_images, isic_labels)

# Combine datasets
x_train = np.concatenate([drive_images, kvasir_images, chase_images, isic_images])
y_train = np.concatenate([drive_labels, kvasir_labels, chase_labels, isic_labels])

# Define Focal Loss
def focal_loss(gamma=2., alpha=0.25):
    def focal_loss_fixed(y_true, y_pred):
        epsilon = tf.keras.backend.epsilon()
        y_pred = tf.clip_by_value(y_pred, epsilon, 1. - epsilon)
        y_true = tf.cast(y_true, tf.float32)
        alpha_t = y_true * alpha + (tf.ones_like(y_true) - y_true) * (1 - alpha)
        p_t = y_true * y_pred + (tf.ones_like(y_true) - y_true) * (1 - y_pred)
        fl = - alpha_t * tf.keras.backend.pow((tf.ones_like(y_true) - p_t), gamma) * tf.keras.backend.log(p_t)
        return tf.keras.backend.mean(fl)
    return focal_loss_fixed

# Define Boundary Loss
def boundary_loss(y_true, y_pred):
    y_true = tf.cast(y_true, tf.float32)
    y_pred = tf.cast(y_pred, tf.float32)
    dy_true, dx_true = tf.image.image_gradients(y_true)
    dy_pred, dx_pred = tf.image.image_gradients(y_pred)
    return tf.reduce_mean(tf.abs(dy_true - dy_pred) + tf.abs(dx_true - dx_pred))

# Create an instance of SuperUNet
model = SuperUNet()

# Compile the model with Focal Loss and Boundary Loss
model.compile(optimizer=Adam(learning_rate=0.001), loss=[focal_loss(), boundary_loss], metrics=[MeanIoU(num_classes=2)])

# Implement progressive learning and adaptive learning rate scheduling
initial_epoch = 0
epochs = 50
batch_size = 32
img_sizes = [128, 256, 512]

for img_size in img_sizes:
    x_train_resized, y_train_resized = preprocess_data(x_train, y_train, img_size)
    lr_schedule = tf.keras.experimental.CosineDecay(initial_learning_rate=0.001, decay_steps=epochs * len(x_train_resized) // batch_size)
    model.compile(optimizer=Adam(learning_rate=lr_schedule), loss=[focal_loss(), boundary_loss], metrics=[MeanIoU(num_classes=2)])
    model.fit(x_train_resized, y_train_resized, epochs=epochs, initial_epoch=initial_epoch, batch_size=batch_size)
    initial_epoch += epochs

# Save the trained model
model.save('super_unet_model.h5')

# Evaluate the model on validation datasets
drive_images_val, drive_labels_val = load_drive_dataset()
kvasir_images_val, kvasir_labels_val = load_kvasir_seg_dataset()
chase_images_val, chase_labels_val = load_chase_db1_dataset()
isic_images_val, isic_labels_val = load_isic_dataset()

drive_images_val, drive_labels_val = preprocess_data(drive_images_val, drive_labels_val, 48)
kvasir_images_val, kvasir_labels_val = preprocess_data(kvasir_images_val, kvasir_labels_val, 512)
chase_images_val, chase_labels_val = preprocess_data(chase_images_val, chase_labels_val, 48)
isic_images_val, isic_labels_val = preprocess_data(isic_images_val, isic_labels_val, 512)

drive_images_val, drive_labels_val = augment_data(drive_images_val, drive_labels_val)
kvasir_images_val, kvasir_labels_val = augment_data(kvasir_images_val, kvasir_labels_val)
chase_images_val, chase_labels_val = augment_data(chase_images_val, chase_labels_val)
isic_images_val, isic_labels_val = augment_data(isic_images_val, isic_labels_val)

x_val = np.concatenate([drive_images_val, kvasir_images_val, chase_images_val, isic_images_val])
y_val = np.concatenate([drive_labels_val, kvasir_labels_val, chase_labels_val, isic_labels_val])

# Evaluate the model
model.evaluate(x_val, y_val)

# Performance assessment
def dice_coefficient(y_true, y_pred):
    smooth = 1.
    y_true_f = tf.keras.backend.flatten(y_true)
    y_pred_f = tf.keras.backend.flatten(y_pred)
    intersection = tf.keras.backend.sum(y_true_f * y_pred_f)
    return (2. * intersection + smooth) / (tf.keras.backend.sum(y_true_f) + tf.keras.backend.sum(y_pred_f) + smooth)

def accuracy(y_true, y_pred):
    return tf.keras.metrics.binary_accuracy(y_true, y_pred)

def positive_predictive_value(y_true, y_pred):
    true_positives = tf.keras.backend.sum(tf.keras.backend.round(tf.keras.backend.clip(y_true * y_pred, 0, 1)))
    predicted_positives = tf.keras.backend.sum(tf.keras.backend.round(tf.keras.backend.clip(y_pred, 0, 1)))
    return true_positives / (predicted_positives + tf.keras.backend.epsilon())

def sensitivity(y_true, y_pred):
    true_positives = tf.keras.backend.sum(tf.keras.backend.round(tf.keras.backend.clip(y_true * y_pred, 0, 1)))
    possible_positives = tf.keras.backend.sum(tf.keras.backend.round(tf.keras.backend.clip(y_true, 0, 1)))
    return true_positives / (possible_positives + tf.keras.backend.epsilon())

model.compile(optimizer=Adam(learning_rate=0.001), loss=dice_coefficient, metrics=[accuracy, positive_predictive_value, sensitivity])

# Perform k-fold cross-validation
from sklearn.model_selection import KFold

def k_fold_cross_validation(model, x_data, y_data, k=5):
    kf = KFold(n_splits=k, shuffle=True, random_state=42)
    fold_no = 1
    for train_index, val_index in kf.split(x_data):
        x_train_fold, x_val_fold = x_data[train_index], x_data[val_index]
        y_train_fold, y_val_fold = y_data[train_index], y_data[val_index]
        print(f'Training fold {fold_no}...')
        model.fit(x_train_fold, y_train_fold, epochs=10, batch_size=32)
        scores = model.evaluate(x_val_fold, y_val_fold)
        print(f'Scores for fold {fold_no}: {model.metrics_names} = {scores}')
        fold_no += 1

k_fold_cross_validation(model, x_train, y_train)

# Perform ablation study
def ablation_study(model, x_data, y_data):
    # Remove dynamic receptive field module
    model.dynamic_receptive_field = lambda x: x
    print('Evaluating model without dynamic receptive field module...')
    model.fit(x_data, y_data, epochs=10, batch_size=32)
    scores = model.evaluate(x_val, y_val)
    print(f'Scores without dynamic receptive field module: {model.metrics_names} = {scores}')

    # Restore dynamic receptive field module
    model.dynamic_receptive_field = DynamicReceptiveField(128)

    # Remove fusion upsampling module
    model.fusion_upsampling = lambda x: x
    print('Evaluating model without fusion upsampling module...')
    model.fit(x_data, y_data, epochs=10, batch_size=32)
    scores = model.evaluate(x_val, y_val)
    print(f'Scores without fusion upsampling module: {model.metrics_names} = {scores}')

ablation_study(model, x_train, y_train)

# Validate segmentation performance on 3-D images
def validate_3d_segmentation(model, x_data, y_data):
    # Placeholder function for 3-D segmentation validation
    pass

validate_3d_segmentation(model, x_train, y_train)

# Explore potential of Super U-Net for other medical image analysis tasks
def explore_other_tasks(model, x_data, y_data):
    # Placeholder function for exploring other tasks
    pass

explore_other_tasks(model, x_train, y_train)

# Implement CRF, TTA, and ensemble learning in the post-processing section
def apply_crf(predictions):
    # Placeholder function for CRF post-processing
    pass

def test_time_augmentation(model, x_data):
    # Placeholder function for TTA
    pass

def ensemble_learning(models, x_data):
    # Placeholder function for ensemble learning
    pass

apply_crf(model.predict(x_val))
test_time_augmentation(model, x_val)
ensemble_learning([model], x_val)
